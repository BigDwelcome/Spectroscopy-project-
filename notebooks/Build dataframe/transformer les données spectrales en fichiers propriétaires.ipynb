{
 "cells": [
  {
   "cell_type": "markdown",
   "metadata": {},
   "source": [
    "# Objectif\n",
    "\n",
    "- Transformer les données en format propriétaire (je suis toujours à la recherche de biblothèque propriétaire pour automatiser cette partie)\n",
    "- Pour le moment je vais utiliser le format matlab"
   ]
  },
  {
   "cell_type": "code",
   "execution_count": 41,
   "metadata": {},
   "outputs": [],
   "source": [
    "import this"
   ]
  },
  {
   "cell_type": "code",
   "execution_count": 42,
   "metadata": {},
   "outputs": [],
   "source": [
    "import pickle \n",
    "import pandas as pd\n",
    "from scipy.io import savemat"
   ]
  },
  {
   "cell_type": "code",
   "execution_count": 43,
   "metadata": {},
   "outputs": [],
   "source": [
    "# chargement des données\n",
    "with open('../../data/processed/mmc3.pkl', 'rb') as f:\n",
    "    Xtrain, ytrain, Xtest, ytest, X, wavelengths = pickle.load(f)"
   ]
  },
  {
   "cell_type": "code",
   "execution_count": 44,
   "metadata": {},
   "outputs": [],
   "source": [
    "# Initialisation du dictionnaire pour l'ensemble d'entraînement\n",
    "spectre_dict_train = {'id': [], 'spectre': [], 'wavelengths': []}\n",
    "\n",
    "# Remplissage du dictionnaire pour l'ensemble d'entraînement\n",
    "for i in range(len(Xtrain)):\n",
    "    spectre_dict_train['id'].append('spectre_train_' + str(i + 1))  # L'ID commence à 1, conversion de l'index en chaîne\n",
    "    spectre_dict_train['spectre'].append(Xtrain[i,:])  # Utilisation de .iloc si Xtrain est un DataFrame\n",
    "    spectre_dict_train['wavelengths'].append(wavelengths)  # Liste de longueurs d'onde\n",
    "\n",
    "# Initialisation du dictionnaire pour l'ensemble de test\n",
    "spectre_dict_test = {'id': [], 'spectre': [], 'wavelengths': []}\n",
    "\n",
    "# Remplissage du dictionnaire pour l'ensemble de test\n",
    "for i in range(len(Xtest)):\n",
    "    spectre_dict_test['id'].append('spectre_test_' + str(i + 1))  # L'ID commence à 1, conversion de l'index en chaîne\n",
    "    spectre_dict_test['spectre'].append(Xtest[i,:])  # Utilisation de .iloc si Xtest est un DataFrame\n",
    "    spectre_dict_test['wavelengths'].append(wavelengths)  # Liste de longueurs d'onde\n",
    "\n"
   ]
  },
  {
   "cell_type": "code",
   "execution_count": 45,
   "metadata": {},
   "outputs": [],
   "source": [
    "# création d'un fichier format matlab pour les données d'entraînement\n",
    "for i in range(len(spectre_dict_train['id'])):\n",
    "    savemat('../../data/processed/spectres_train/' + spectre_dict_train['id'][i] + '.mat', {'spectre': spectre_dict_train['spectre'][i], 'wavelengths': spectre_dict_train['wavelengths'][i]})"
   ]
  },
  {
   "cell_type": "code",
   "execution_count": 46,
   "metadata": {},
   "outputs": [],
   "source": [
    "# création d'un fichier format matlab pour les données  de test \n",
    "for i in range(len(spectre_dict_test['id'])):\n",
    "    savemat('../../data/processed/spectres_test/' + spectre_dict_test['id'][i] + '.mat', {'spectre': spectre_dict_test['spectre'][i], 'wavelengths': spectre_dict_test['wavelengths'][i]})"
   ]
  },
  {
   "cell_type": "code",
   "execution_count": 2,
   "metadata": {},
   "outputs": [],
   "source": [
    "from scipy.io import loadmat\n",
    "a = loadmat('../../data/processed/spectres_train/spectre_train_1.mat')"
   ]
  },
  {
   "cell_type": "code",
   "execution_count": 3,
   "metadata": {},
   "outputs": [
    {
     "name": "stdout",
     "output_type": "stream",
     "text": [
      "dict_keys(['__header__', '__version__', '__globals__', 'spectre', 'wavelengths'])\n"
     ]
    }
   ],
   "source": [
    "print(a.keys())"
   ]
  }
 ],
 "metadata": {
  "kernelspec": {
   "display_name": "base",
   "language": "python",
   "name": "python3"
  },
  "language_info": {
   "codemirror_mode": {
    "name": "ipython",
    "version": 3
   },
   "file_extension": ".py",
   "mimetype": "text/x-python",
   "name": "python",
   "nbconvert_exporter": "python",
   "pygments_lexer": "ipython3",
   "version": "3.11.5"
  }
 },
 "nbformat": 4,
 "nbformat_minor": 2
}
