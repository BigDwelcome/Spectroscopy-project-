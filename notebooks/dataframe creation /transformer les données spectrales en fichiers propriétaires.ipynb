{
 "cells": [
  {
   "cell_type": "markdown",
   "metadata": {},
   "source": [
    "# Objectif\n",
    "\n",
    "- Transformer les données en format propriétaire\n",
    "On utilisera la biblothèque spectrochempy\n"
   ]
  }
 ],
 "metadata": {
  "language_info": {
   "name": "python"
  }
 },
 "nbformat": 4,
 "nbformat_minor": 2
}
